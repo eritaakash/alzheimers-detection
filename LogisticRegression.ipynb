{
 "cells": [
  {
   "cell_type": "code",
   "execution_count": 2,
   "metadata": {},
   "outputs": [],
   "source": [
    "import pandas as pd"
   ]
  },
  {
   "cell_type": "code",
   "execution_count": 8,
   "metadata": {},
   "outputs": [],
   "source": [
    "data = pd.read_csv('alzheimers_disease_data.csv')\n",
    "data = data.drop(columns=['PatientID', 'DoctorInCharge'])"
   ]
  },
  {
   "cell_type": "code",
   "execution_count": 44,
   "metadata": {},
   "outputs": [],
   "source": [
    "from sklearn.preprocessing import StandardScaler\n",
    "from sklearn.model_selection import train_test_split as tts \n",
    "\n",
    "scaler = StandardScaler()\n",
    "\n",
    "# y = f(x)\n",
    "\n",
    "x = data.drop(columns=['Diagnosis'])\n",
    "y = data['Diagnosis']\n",
    "\n",
    "x_train_scaled = scaler.fit_transform(x)\n",
    "x_test_scaled = scaler.transform(x)\n",
    "\n",
    "x_train, x_test, y_train, y_test = tts(x_train_scaled, y, test_size=0.3, stratify=y, random_state=65)"
   ]
  },
  {
   "cell_type": "code",
   "execution_count": 45,
   "metadata": {},
   "outputs": [],
   "source": [
    "from sklearn.linear_model import LogisticRegression as LR \n",
    "\n",
    "model = LR(class_weight='balanced')\n",
    "model.fit(x_train, y_train)\n",
    "\n",
    "pred_train = model.predict(x_train)\n",
    "pred_test = model.predict(x_test)"
   ]
  },
  {
   "cell_type": "code",
   "execution_count": 46,
   "metadata": {},
   "outputs": [],
   "source": [
    "from sklearn.metrics import classification_report as cr \n",
    "\n",
    "report_train = cr(y_train, pred_train)\n",
    "report_test = cr(y_test, pred_test)"
   ]
  },
  {
   "cell_type": "code",
   "execution_count": 47,
   "metadata": {},
   "outputs": [
    {
     "name": "stdout",
     "output_type": "stream",
     "text": [
      "              precision    recall  f1-score   support\n",
      "\n",
      "           0       0.90      0.82      0.86       972\n",
      "           1       0.72      0.84      0.78       532\n",
      "\n",
      "    accuracy                           0.83      1504\n",
      "   macro avg       0.81      0.83      0.82      1504\n",
      "weighted avg       0.84      0.83      0.83      1504\n",
      "\n"
     ]
    }
   ],
   "source": [
    "print(report_train)"
   ]
  },
  {
   "cell_type": "code",
   "execution_count": 48,
   "metadata": {},
   "outputs": [
    {
     "name": "stdout",
     "output_type": "stream",
     "text": [
      "              precision    recall  f1-score   support\n",
      "\n",
      "           0       0.91      0.82      0.86       417\n",
      "           1       0.72      0.85      0.78       228\n",
      "\n",
      "    accuracy                           0.83       645\n",
      "   macro avg       0.82      0.84      0.82       645\n",
      "weighted avg       0.84      0.83      0.84       645\n",
      "\n"
     ]
    }
   ],
   "source": [
    "print(report_test)"
   ]
  }
 ],
 "metadata": {
  "kernelspec": {
   "display_name": "Python 3",
   "language": "python",
   "name": "python3"
  },
  "language_info": {
   "codemirror_mode": {
    "name": "ipython",
    "version": 3
   },
   "file_extension": ".py",
   "mimetype": "text/x-python",
   "name": "python",
   "nbconvert_exporter": "python",
   "pygments_lexer": "ipython3",
   "version": "3.12.4"
  }
 },
 "nbformat": 4,
 "nbformat_minor": 2
}
